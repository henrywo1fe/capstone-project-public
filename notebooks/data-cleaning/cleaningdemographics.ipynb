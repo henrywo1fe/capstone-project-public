{
 "cells": [
  {
   "cell_type": "code",
   "execution_count": 2,
   "metadata": {},
   "outputs": [],
   "source": [
    "# importing relevant packages\n",
    "import numpy as np\n",
    "import pandas as pd\n",
    "import matplotlib.pyplot as plt\n",
    "import seaborn as sns\n",
    "import plotly as px"
   ]
  },
  {
   "cell_type": "code",
   "execution_count": 3,
   "metadata": {},
   "outputs": [],
   "source": [
    "# loading in the dataset \n",
    "rawdemodf = pd.read_parquet('../../data/raw/rawdemdata.parquet')"
   ]
  },
  {
   "cell_type": "code",
   "execution_count": 5,
   "metadata": {},
   "outputs": [
    {
     "data": {
      "text/html": [
       "<div>\n",
       "<style scoped>\n",
       "    .dataframe tbody tr th:only-of-type {\n",
       "        vertical-align: middle;\n",
       "    }\n",
       "\n",
       "    .dataframe tbody tr th {\n",
       "        vertical-align: top;\n",
       "    }\n",
       "\n",
       "    .dataframe thead th {\n",
       "        text-align: right;\n",
       "    }\n",
       "</style>\n",
       "<table border=\"1\" class=\"dataframe\">\n",
       "  <thead>\n",
       "    <tr style=\"text-align: right;\">\n",
       "      <th></th>\n",
       "      <th>dep_name</th>\n",
       "      <th>esi</th>\n",
       "      <th>age</th>\n",
       "      <th>gender</th>\n",
       "      <th>ethnicity</th>\n",
       "      <th>race</th>\n",
       "      <th>lang</th>\n",
       "      <th>religion</th>\n",
       "      <th>maritalstatus</th>\n",
       "      <th>employstatus</th>\n",
       "    </tr>\n",
       "    <tr>\n",
       "      <th>Unnamed: 0</th>\n",
       "      <th></th>\n",
       "      <th></th>\n",
       "      <th></th>\n",
       "      <th></th>\n",
       "      <th></th>\n",
       "      <th></th>\n",
       "      <th></th>\n",
       "      <th></th>\n",
       "      <th></th>\n",
       "      <th></th>\n",
       "    </tr>\n",
       "  </thead>\n",
       "  <tbody>\n",
       "    <tr>\n",
       "      <th>331183</th>\n",
       "      <td>B</td>\n",
       "      <td>3.0</td>\n",
       "      <td>52.0</td>\n",
       "      <td>Female</td>\n",
       "      <td>Non-Hispanic</td>\n",
       "      <td>Black or African American</td>\n",
       "      <td>English</td>\n",
       "      <td>Baptist</td>\n",
       "      <td>Married</td>\n",
       "      <td>Part Time</td>\n",
       "    </tr>\n",
       "    <tr>\n",
       "      <th>852</th>\n",
       "      <td>A</td>\n",
       "      <td>3.0</td>\n",
       "      <td>55.0</td>\n",
       "      <td>Female</td>\n",
       "      <td>Non-Hispanic</td>\n",
       "      <td>White or Caucasian</td>\n",
       "      <td>English</td>\n",
       "      <td>Protestant</td>\n",
       "      <td>Divorced</td>\n",
       "      <td>Full Time</td>\n",
       "    </tr>\n",
       "    <tr>\n",
       "      <th>416928</th>\n",
       "      <td>A</td>\n",
       "      <td>3.0</td>\n",
       "      <td>62.0</td>\n",
       "      <td>Female</td>\n",
       "      <td>Non-Hispanic</td>\n",
       "      <td>White or Caucasian</td>\n",
       "      <td>English</td>\n",
       "      <td>Protestant</td>\n",
       "      <td>Single</td>\n",
       "      <td>Disabled</td>\n",
       "    </tr>\n",
       "    <tr>\n",
       "      <th>324720</th>\n",
       "      <td>C</td>\n",
       "      <td>3.0</td>\n",
       "      <td>58.0</td>\n",
       "      <td>Male</td>\n",
       "      <td>Non-Hispanic</td>\n",
       "      <td>White or Caucasian</td>\n",
       "      <td>English</td>\n",
       "      <td>Catholic</td>\n",
       "      <td>Married</td>\n",
       "      <td>Self Employed</td>\n",
       "    </tr>\n",
       "    <tr>\n",
       "      <th>294383</th>\n",
       "      <td>B</td>\n",
       "      <td>3.0</td>\n",
       "      <td>57.0</td>\n",
       "      <td>Female</td>\n",
       "      <td>Non-Hispanic</td>\n",
       "      <td>Black or African American</td>\n",
       "      <td>English</td>\n",
       "      <td>Methodist</td>\n",
       "      <td>Married</td>\n",
       "      <td>Not Employed</td>\n",
       "    </tr>\n",
       "  </tbody>\n",
       "</table>\n",
       "</div>"
      ],
      "text/plain": [
       "           dep_name  esi   age  gender     ethnicity  \\\n",
       "Unnamed: 0                                             \n",
       "331183            B  3.0  52.0  Female  Non-Hispanic   \n",
       "852               A  3.0  55.0  Female  Non-Hispanic   \n",
       "416928            A  3.0  62.0  Female  Non-Hispanic   \n",
       "324720            C  3.0  58.0    Male  Non-Hispanic   \n",
       "294383            B  3.0  57.0  Female  Non-Hispanic   \n",
       "\n",
       "                                 race     lang    religion maritalstatus  \\\n",
       "Unnamed: 0                                                                 \n",
       "331183      Black or African American  English     Baptist       Married   \n",
       "852                White or Caucasian  English  Protestant      Divorced   \n",
       "416928             White or Caucasian  English  Protestant        Single   \n",
       "324720             White or Caucasian  English    Catholic       Married   \n",
       "294383      Black or African American  English   Methodist       Married   \n",
       "\n",
       "             employstatus  \n",
       "Unnamed: 0                 \n",
       "331183          Part Time  \n",
       "852             Full Time  \n",
       "416928           Disabled  \n",
       "324720      Self Employed  \n",
       "294383       Not Employed  "
      ]
     },
     "execution_count": 5,
     "metadata": {},
     "output_type": "execute_result"
    }
   ],
   "source": [
    "# checking that the formatting is correct\n",
    "rawdemodf.sample(5)"
   ]
  },
  {
   "cell_type": "markdown",
   "metadata": {},
   "source": [
    "Everything looks good, let's check the shape and do some cleaning!"
   ]
  },
  {
   "cell_type": "code",
   "execution_count": 56,
   "metadata": {},
   "outputs": [],
   "source": [
    "# creating a copy of the dataframe that will be our cleaned data\n",
    "cleandemodf = rawdemodf.copy()"
   ]
  },
  {
   "cell_type": "code",
   "execution_count": 57,
   "metadata": {},
   "outputs": [
    {
     "name": "stdout",
     "output_type": "stream",
     "text": [
      "We have 560486 rows and 10 columns.\n"
     ]
    }
   ],
   "source": [
    "# finding the shape of the dataframe\n",
    "print(f'We have {cleandemodf.shape[0]} rows and {cleandemodf.shape[1]} columns.')"
   ]
  },
  {
   "cell_type": "code",
   "execution_count": 58,
   "metadata": {},
   "outputs": [
    {
     "data": {
      "text/plain": [
       "dep_name              0\n",
       "esi                2457\n",
       "age                  11\n",
       "gender                0\n",
       "ethnicity             0\n",
       "race                 26\n",
       "lang                  0\n",
       "religion         135198\n",
       "maritalstatus         0\n",
       "employstatus          0\n",
       "dtype: int64"
      ]
     },
     "execution_count": 58,
     "metadata": {},
     "output_type": "execute_result"
    }
   ],
   "source": [
    "# checking for null values\n",
    "cleandemodf.isna().sum()"
   ]
  },
  {
   "cell_type": "code",
   "execution_count": 59,
   "metadata": {},
   "outputs": [
    {
     "name": "stdout",
     "output_type": "stream",
     "text": [
      "0.438 % of esi values are null \n",
      " 0.002 % of age values are null \n",
      " 0.005 % of race values are null \n",
      " 24.122 % of religion values are null \n",
      "  \n"
     ]
    }
   ],
   "source": [
    "# printing percentage of values that are null for each column containing null values\n",
    "pctnullesi = cleandemodf['esi'].isna().sum()/cleandemodf.shape[0] * 100\n",
    "pctnullage = cleandemodf['age'].isna().value_counts()[1]/cleandemodf.shape[0] * 100\n",
    "pctnullrace = cleandemodf['race'].isna().value_counts()[1]/cleandemodf.shape[0] * 100\n",
    "pctnullreligion = cleandemodf['religion'].isna().value_counts()[1]/cleandemodf.shape[0] * 100\n",
    "print(f'{round(pctnullesi, 3)} % of esi values are null \\n {round(pctnullage, 3)} % of age values are null \\n {round(pctnullrace, 3)} % of race values are null \\n {round(pctnullreligion, 3)} % of religion values are null \\n  ')"
   ]
  },
  {
   "cell_type": "markdown",
   "metadata": {},
   "source": [
    "The 'esi', 'age' and 'race' columns contain a very small percentage of null values, and we can drop rows with null values in these columns. The religion will require more attention, as a large percentage of values are null. "
   ]
  },
  {
   "cell_type": "code",
   "execution_count": 60,
   "metadata": {},
   "outputs": [],
   "source": [
    "# dropping rows with 'esi', 'age' and 'race' values\n",
    "cleandemodf.dropna(axis=0, subset=['esi', 'age', 'race'], inplace=True)"
   ]
  },
  {
   "cell_type": "code",
   "execution_count": 61,
   "metadata": {},
   "outputs": [
    {
     "data": {
      "text/plain": [
       "dep_name              0\n",
       "esi                   0\n",
       "age                   0\n",
       "gender                0\n",
       "ethnicity             0\n",
       "race                  0\n",
       "lang                  0\n",
       "religion         134468\n",
       "maritalstatus         0\n",
       "employstatus          0\n",
       "dtype: int64"
      ]
     },
     "execution_count": 61,
     "metadata": {},
     "output_type": "execute_result"
    }
   ],
   "source": [
    "# checking that it has worked as desired\n",
    "cleandemodf.isna().sum()"
   ]
  },
  {
   "cell_type": "markdown",
   "metadata": {},
   "source": [
    "It has worked! Now let's look into the religion column. "
   ]
  },
  {
   "cell_type": "code",
   "execution_count": 62,
   "metadata": {},
   "outputs": [
    {
     "data": {
      "text/plain": [
       "religion\n",
       "Catholic             188200\n",
       "Christian             75026\n",
       "Baptist               40378\n",
       "Other                 28811\n",
       "Pentecostal           25503\n",
       "Protestant            23250\n",
       "Jewish                12139\n",
       "Muslim                 8378\n",
       "Episcopal              7974\n",
       "Methodist              4799\n",
       "Unknown                4605\n",
       "Jehovah's Witness      4461\n",
       "Name: count, dtype: int64"
      ]
     },
     "execution_count": 62,
     "metadata": {},
     "output_type": "execute_result"
    }
   ],
   "source": [
    "# seeing the possible values of the 'religion' column\n",
    "cleandemodf['religion'].value_counts()"
   ]
  },
  {
   "cell_type": "markdown",
   "metadata": {},
   "source": [
    "Great! There is an unknow option, so we will fill null religion values with 'unknown'. "
   ]
  },
  {
   "cell_type": "code",
   "execution_count": 63,
   "metadata": {},
   "outputs": [],
   "source": [
    "# filling null religion values with 'unknown'\n",
    "cleandemodf['religion'] = cleandemodf['religion'].fillna('Unknown')"
   ]
  },
  {
   "cell_type": "code",
   "execution_count": 65,
   "metadata": {},
   "outputs": [
    {
     "name": "stdout",
     "output_type": "stream",
     "text": [
      "<class 'pandas.core.frame.DataFrame'>\n",
      "Index: 557992 entries, 1 to 560486\n",
      "Data columns (total 10 columns):\n",
      " #   Column         Non-Null Count   Dtype  \n",
      "---  ------         --------------   -----  \n",
      " 0   dep_name       557992 non-null  object \n",
      " 1   esi            557992 non-null  float64\n",
      " 2   age            557992 non-null  float64\n",
      " 3   gender         557992 non-null  object \n",
      " 4   ethnicity      557992 non-null  object \n",
      " 5   race           557992 non-null  object \n",
      " 6   lang           557992 non-null  object \n",
      " 7   religion       557992 non-null  object \n",
      " 8   maritalstatus  557992 non-null  object \n",
      " 9   employstatus   557992 non-null  object \n",
      "dtypes: float64(2), object(8)\n",
      "memory usage: 46.8+ MB\n"
     ]
    }
   ],
   "source": [
    "# checking the data type of the columns\n",
    "cleandemodf.info()"
   ]
  },
  {
   "cell_type": "markdown",
   "metadata": {},
   "source": [
    "These all look good, except that 'esi score should be a string since it is a categorical variable. Let's fix this."
   ]
  },
  {
   "cell_type": "code",
   "execution_count": 70,
   "metadata": {},
   "outputs": [],
   "source": [
    "# changing 'esi' data type to be an integer\n",
    "cleandemodf['esi'] = cleandemodf['esi'].astype(str)"
   ]
  },
  {
   "cell_type": "code",
   "execution_count": 71,
   "metadata": {},
   "outputs": [
    {
     "name": "stdout",
     "output_type": "stream",
     "text": [
      "<class 'pandas.core.frame.DataFrame'>\n",
      "Index: 557992 entries, 1 to 560486\n",
      "Data columns (total 10 columns):\n",
      " #   Column         Non-Null Count   Dtype  \n",
      "---  ------         --------------   -----  \n",
      " 0   dep_name       557992 non-null  object \n",
      " 1   esi            557992 non-null  object \n",
      " 2   age            557992 non-null  float64\n",
      " 3   gender         557992 non-null  object \n",
      " 4   ethnicity      557992 non-null  object \n",
      " 5   race           557992 non-null  object \n",
      " 6   lang           557992 non-null  object \n",
      " 7   religion       557992 non-null  object \n",
      " 8   maritalstatus  557992 non-null  object \n",
      " 9   employstatus   557992 non-null  object \n",
      "dtypes: float64(1), object(9)\n",
      "memory usage: 46.8+ MB\n"
     ]
    }
   ],
   "source": [
    "# checking to see that it has worked\n",
    "cleandemodf.info()"
   ]
  },
  {
   "cell_type": "markdown",
   "metadata": {},
   "source": [
    "This all looks good, let's save the clean data as a parquet file and we are ready to do some EDA."
   ]
  },
  {
   "cell_type": "code",
   "execution_count": 72,
   "metadata": {},
   "outputs": [],
   "source": [
    "# saving the data as a parquet file\n",
    "cleandemodf.to_parquet('../../data/cleaned/demodata.parquet')"
   ]
  }
 ],
 "metadata": {
  "kernelspec": {
   "display_name": "capstone",
   "language": "python",
   "name": "python3"
  },
  "language_info": {
   "codemirror_mode": {
    "name": "ipython",
    "version": 3
   },
   "file_extension": ".py",
   "mimetype": "text/x-python",
   "name": "python",
   "nbconvert_exporter": "python",
   "pygments_lexer": "ipython3",
   "version": "3.8.18"
  }
 },
 "nbformat": 4,
 "nbformat_minor": 2
}
