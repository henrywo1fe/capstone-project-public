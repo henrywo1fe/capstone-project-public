{
 "cells": [
  {
   "cell_type": "code",
   "execution_count": 53,
   "metadata": {},
   "outputs": [],
   "source": [
    "# importing packages\n",
    "import numpy as np\n",
    "import pandas as pd"
   ]
  },
  {
   "cell_type": "code",
   "execution_count": 54,
   "metadata": {},
   "outputs": [],
   "source": [
    "# loading the data\n",
    "df = pd.read_parquet('../data/cleaned/dataCleanWMedicalUrgency.parquet')"
   ]
  },
  {
   "cell_type": "code",
   "execution_count": 55,
   "metadata": {},
   "outputs": [],
   "source": [
    "# saving the target varibale as 'y'\n",
    "y = df['medical_urgency']"
   ]
  },
  {
   "cell_type": "markdown",
   "metadata": {},
   "source": [
    "# Target variable"
   ]
  },
  {
   "cell_type": "markdown",
   "metadata": {},
   "source": [
    "Our target variable, 'medical_urgency' is ready for modelling."
   ]
  },
  {
   "cell_type": "markdown",
   "metadata": {},
   "source": [
    "# Feature variables"
   ]
  },
  {
   "cell_type": "markdown",
   "metadata": {},
   "source": [
    "Before modelling, we have to make sure that all our variables are numeric. Let's make a dataframe with all our feature variables and see which ones need processing."
   ]
  },
  {
   "cell_type": "code",
   "execution_count": 23,
   "metadata": {},
   "outputs": [],
   "source": [
    "# setting a dataframe, X, to be all feature variables\n",
    "X = df.drop(['esi', 'medical_urgency', 'disposition'], axis=1)"
   ]
  },
  {
   "cell_type": "markdown",
   "metadata": {},
   "source": [
    "Let's make dummy variables for the non-numeric columns."
   ]
  },
  {
   "cell_type": "code",
   "execution_count": 57,
   "metadata": {},
   "outputs": [],
   "source": [
    "# making dummy variables\n",
    "X_dum = pd.get_dummies(X, dtype=int, drop_first=True)\n",
    "X_dum2 = pd.get_dummies(X, dtype=int)"
   ]
  },
  {
   "cell_type": "markdown",
   "metadata": {},
   "source": [
    "We need to see which variable columns the function has dropped (the reference columns). Let's do it by finding the set difference between the set of columns before get_dummies, and after. "
   ]
  },
  {
   "cell_type": "code",
   "execution_count": null,
   "metadata": {},
   "outputs": [],
   "source": [
    "# getting column names to find the set difference between them\n",
    "df_dummy = pd.get_dummies(df, columns=target_cols)\n",
    "df_dummy.columns.difference(df.columns).tolist()"
   ]
  },
  {
   "cell_type": "code",
   "execution_count": 61,
   "metadata": {},
   "outputs": [
    {
     "data": {
      "text/plain": [
       "{'arrivalday_Friday',\n",
       " 'arrivalhour_bin_03-06',\n",
       " 'arrivalmode_Car',\n",
       " 'arrivalmonth_April',\n",
       " 'dep_name_A',\n",
       " 'employstatus_Disabled',\n",
       " 'ethnicity_Hispanic or Latino',\n",
       " 'gender_Female',\n",
       " 'insurance_status_Commercial',\n",
       " 'lang_English',\n",
       " 'maritalstatus_Civil Union',\n",
       " 'previousdispo_AMA',\n",
       " 'race_American Indian or Alaska Native',\n",
       " 'religion_Baptist'}"
      ]
     },
     "execution_count": 61,
     "metadata": {},
     "output_type": "execute_result"
    }
   ],
   "source": [
    "# finding the set difference\n",
    "set(X_dum2.columns) - set(X_dum.columns)"
   ]
  },
  {
   "cell_type": "markdown",
   "metadata": {},
   "source": [
    "We will use this in model evaluations.\n",
    "\n",
    "Let's see how many columns this process has added. "
   ]
  },
  {
   "cell_type": "code",
   "execution_count": 49,
   "metadata": {},
   "outputs": [
    {
     "data": {
      "text/plain": [
       "(555417, 654)"
      ]
     },
     "execution_count": 49,
     "metadata": {},
     "output_type": "execute_result"
    }
   ],
   "source": [
    "# seeing the shape of X_dum\n",
    "X_dum.shape"
   ]
  },
  {
   "cell_type": "markdown",
   "metadata": {},
   "source": [
    "We have added 101 columns by one hot encoding. This isn't too bad, and we will use this preprocessed dataframe for our initla round of modelling."
   ]
  },
  {
   "cell_type": "markdown",
   "metadata": {},
   "source": [
    "Let's save the preprocessed dataframe to a parquet file."
   ]
  },
  {
   "cell_type": "code",
   "execution_count": 42,
   "metadata": {},
   "outputs": [],
   "source": [
    "X_dum.to_parquet('../data/cleaned/featuresPreprocessed.parquet')"
   ]
  }
 ],
 "metadata": {
  "kernelspec": {
   "display_name": "capstone",
   "language": "python",
   "name": "python3"
  },
  "language_info": {
   "codemirror_mode": {
    "name": "ipython",
    "version": 3
   },
   "file_extension": ".py",
   "mimetype": "text/x-python",
   "name": "python",
   "nbconvert_exporter": "python",
   "pygments_lexer": "ipython3",
   "version": "3.8.18"
  },
  "orig_nbformat": 4
 },
 "nbformat": 4,
 "nbformat_minor": 2
}
