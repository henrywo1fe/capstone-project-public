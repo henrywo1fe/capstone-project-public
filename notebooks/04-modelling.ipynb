{
 "cells": [
  {
   "cell_type": "code",
   "execution_count": 1,
   "metadata": {},
   "outputs": [],
   "source": [
    "# improting relevant packages\n",
    "import numpy as np\n",
    "import pandas as pd"
   ]
  },
  {
   "cell_type": "markdown",
   "metadata": {},
   "source": [
    "First we will import our preprocessed data and our target variable"
   ]
  },
  {
   "cell_type": "code",
   "execution_count": 4,
   "metadata": {},
   "outputs": [],
   "source": [
    "# loading the data\n",
    "df = pd.read_parquet('../data/cleaned/dataCleanWMedicalUrgency.parquet')\n",
    "\n",
    "# saetting y to be the target variable\n",
    "y = df['medical_urgency']\n",
    "\n",
    "# importing the preprocessed data\n",
    "X = pd.read_parquet('../data/cleaned/featuresPreprocessed.parquet')\n"
   ]
  },
  {
   "cell_type": "markdown",
   "metadata": {},
   "source": [
    "Now we will split the data into remainder data and testig data. We will keep the test data separate and only use it for testing purposes. \n",
    "\n",
    "We will train on 75% of the data and leave 25% to test on. Our test set will be a random sample stratified by velues in the target variable, y, so as to keep proportional representation of each value in y.\n",
    "\n",
    "We will measure the success of our models by their accuracy scores on the test data."
   ]
  },
  {
   "cell_type": "code",
   "execution_count": 6,
   "metadata": {},
   "outputs": [],
   "source": [
    "# importing relevant packages\n",
    "from sklearn.model_selection import train_test_split\n",
    "\n",
    "# splitting the data\n",
    "X_rem, X_test, y_rem, y_test = train_test_split(X, y, test_size=0.25, random_state=1234, stratify=y)"
   ]
  },
  {
   "cell_type": "markdown",
   "metadata": {},
   "source": [
    "We will reset indices to allow our models to run properly."
   ]
  },
  {
   "cell_type": "code",
   "execution_count": 8,
   "metadata": {},
   "outputs": [],
   "source": [
    "# resetting indices\n",
    "X_rem.reset_index(drop=True, inplace=True)\n",
    "X_test.reset_index(drop=True, inplace=True)\n",
    "y_rem.reset_index(drop=True, inplace=True)\n",
    "y_test.reset_index(drop=True, inplace=True)"
   ]
  },
  {
   "cell_type": "markdown",
   "metadata": {},
   "source": [
    "We will quickly check the accuracy score of a naive model that predicts the mode of y."
   ]
  },
  {
   "cell_type": "code",
   "execution_count": 18,
   "metadata": {},
   "outputs": [
    {
     "data": {
      "text/plain": [
       "medical_urgency\n",
       "1    0.423311\n",
       "0    0.302515\n",
       "2    0.274174\n",
       "Name: count, dtype: float64"
      ]
     },
     "execution_count": 18,
     "metadata": {},
     "output_type": "execute_result"
    }
   ],
   "source": [
    "# checking proportions of each value in y\n",
    "y.value_counts() / len(y) "
   ]
  },
  {
   "cell_type": "markdown",
   "metadata": {},
   "source": [
    "1 is the most common value in the target variable. A naive model that guesses 1 every time would have an accuracy of 42.33%"
   ]
  },
  {
   "cell_type": "markdown",
   "metadata": {},
   "source": [
    "# Initial logistic regression model"
   ]
  },
  {
   "cell_type": "markdown",
   "metadata": {},
   "source": [
    "Our first model will be a logistic regression. It will be a baseline and hopefully give us a starting point for further models and optimisation.It will be basic and will not use cross validation. Its purpose it just to light the way for future models."
   ]
  },
  {
   "cell_type": "code",
   "execution_count": 10,
   "metadata": {},
   "outputs": [],
   "source": [
    "# importing relevant package\n",
    "from sklearn.linear_model import LogisticRegression\n",
    "from sklearn.preprocessing import StandardScaler\n",
    "from sklearn.pipeline import Pipeline"
   ]
  },
  {
   "cell_type": "markdown",
   "metadata": {},
   "source": [
    "Let's make our first model. We will use a pipeline that includes scaling. The parameters for the logistic regression are set more or less at random, providing starting points for future models. "
   ]
  },
  {
   "cell_type": "code",
   "execution_count": 11,
   "metadata": {},
   "outputs": [],
   "source": [
    "# setting up the estimators \n",
    "estimators = [\n",
    "    ('normalise', StandardScaler()),\n",
    "    ('log', LogisticRegression(C=0.1, max_iter=10000))\n",
    "]\n",
    "\n",
    "# making the pipeline\n",
    "pipe = Pipeline(estimators)"
   ]
  },
  {
   "cell_type": "code",
   "execution_count": 12,
   "metadata": {},
   "outputs": [
    {
     "data": {
      "text/plain": [
       "Pipeline(steps=[('normalise', StandardScaler()),\n",
       "                ('log', LogisticRegression(C=0.1, max_iter=10000))])"
      ]
     },
     "execution_count": 12,
     "metadata": {},
     "output_type": "execute_result"
    }
   ],
   "source": [
    "# fitting the pipeline model to the remainder data\n",
    "pipe.fit(X_rem, y_rem)"
   ]
  },
  {
   "cell_type": "code",
   "execution_count": 27,
   "metadata": {},
   "outputs": [],
   "source": [
    "import joblib"
   ]
  },
  {
   "cell_type": "code",
   "execution_count": 28,
   "metadata": {},
   "outputs": [
    {
     "data": {
      "text/plain": [
       "['../model/something.pkl']"
      ]
     },
     "execution_count": 28,
     "metadata": {},
     "output_type": "execute_result"
    }
   ],
   "source": [
    "joblib.dump(pipe, '../model/something.pkl')"
   ]
  },
  {
   "cell_type": "code",
   "execution_count": 29,
   "metadata": {},
   "outputs": [],
   "source": [
    "test = joblib.load('../model/something.pkl')"
   ]
  },
  {
   "cell_type": "code",
   "execution_count": 31,
   "metadata": {},
   "outputs": [
    {
     "data": {
      "text/plain": [
       "Pipeline(steps=[('normalise', StandardScaler()),\n",
       "                ('log', LogisticRegression(C=0.1, max_iter=10000))])"
      ]
     },
     "execution_count": 31,
     "metadata": {},
     "output_type": "execute_result"
    }
   ],
   "source": [
    "test"
   ]
  },
  {
   "cell_type": "code",
   "execution_count": 15,
   "metadata": {},
   "outputs": [
    {
     "name": "stdout",
     "output_type": "stream",
     "text": [
      "0.74145265290641\n",
      "0.73941161643441\n"
     ]
    }
   ],
   "source": [
    "# printing the logistic regression model's accuracy score for the remainder set and the test set\n",
    "print(pipe.score(X_rem, y_rem))\n",
    "print(pipe.score(X_test, y_test))"
   ]
  },
  {
   "cell_type": "markdown",
   "metadata": {},
   "source": [
    "We have achieved 74.15% accuracy on the remainder set, and 73.94% accuracy on the test set. This is a significant imporovement on 42.33% for the naive model. Hopefully we can do even better during model optimisation."
   ]
  },
  {
   "cell_type": "code",
   "execution_count": 26,
   "metadata": {},
   "outputs": [
    {
     "data": {
      "text/html": [
       "<div>\n",
       "<style scoped>\n",
       "    .dataframe tbody tr th:only-of-type {\n",
       "        vertical-align: middle;\n",
       "    }\n",
       "\n",
       "    .dataframe tbody tr th {\n",
       "        vertical-align: top;\n",
       "    }\n",
       "\n",
       "    .dataframe thead th {\n",
       "        text-align: right;\n",
       "    }\n",
       "</style>\n",
       "<table border=\"1\" class=\"dataframe\">\n",
       "  <thead>\n",
       "    <tr style=\"text-align: right;\">\n",
       "      <th></th>\n",
       "      <th>age</th>\n",
       "      <th>2ndarymalig</th>\n",
       "      <th>abdomhernia</th>\n",
       "      <th>abdomnlpain</th>\n",
       "      <th>abortcompl</th>\n",
       "      <th>acqfootdef</th>\n",
       "      <th>acrenlfail</th>\n",
       "      <th>acutecvd</th>\n",
       "      <th>acutemi</th>\n",
       "      <th>acutphanm</th>\n",
       "      <th>...</th>\n",
       "      <th>arrivalhour_bin_23-02</th>\n",
       "      <th>previousdispo_Admit</th>\n",
       "      <th>previousdispo_Discharge</th>\n",
       "      <th>previousdispo_Eloped</th>\n",
       "      <th>previousdispo_LWBS after Triage</th>\n",
       "      <th>previousdispo_LWBS before Triage</th>\n",
       "      <th>previousdispo_No previous dispo</th>\n",
       "      <th>previousdispo_Observation</th>\n",
       "      <th>previousdispo_Send to L&amp;D</th>\n",
       "      <th>previousdispo_Transfer to Another Facility</th>\n",
       "    </tr>\n",
       "  </thead>\n",
       "  <tbody>\n",
       "    <tr>\n",
       "      <th>0</th>\n",
       "      <td>0.260844</td>\n",
       "      <td>0.033072</td>\n",
       "      <td>-0.008434</td>\n",
       "      <td>-0.000560</td>\n",
       "      <td>-0.000371</td>\n",
       "      <td>-0.005881</td>\n",
       "      <td>-0.002112</td>\n",
       "      <td>0.012781</td>\n",
       "      <td>0.017828</td>\n",
       "      <td>-0.009147</td>\n",
       "      <td>...</td>\n",
       "      <td>0.035033</td>\n",
       "      <td>0.014309</td>\n",
       "      <td>-0.124540</td>\n",
       "      <td>-0.009484</td>\n",
       "      <td>-0.024235</td>\n",
       "      <td>-0.017866</td>\n",
       "      <td>-0.038646</td>\n",
       "      <td>0.002259</td>\n",
       "      <td>0.001696</td>\n",
       "      <td>-0.000255</td>\n",
       "    </tr>\n",
       "    <tr>\n",
       "      <th>1</th>\n",
       "      <td>-0.028251</td>\n",
       "      <td>0.000162</td>\n",
       "      <td>0.008843</td>\n",
       "      <td>-0.002241</td>\n",
       "      <td>-0.000775</td>\n",
       "      <td>-0.003925</td>\n",
       "      <td>-0.002045</td>\n",
       "      <td>0.001595</td>\n",
       "      <td>0.000789</td>\n",
       "      <td>-0.010264</td>\n",
       "      <td>...</td>\n",
       "      <td>-0.014412</td>\n",
       "      <td>0.002644</td>\n",
       "      <td>-0.020903</td>\n",
       "      <td>0.000525</td>\n",
       "      <td>0.003922</td>\n",
       "      <td>-0.000825</td>\n",
       "      <td>-0.015867</td>\n",
       "      <td>-0.000096</td>\n",
       "      <td>0.001118</td>\n",
       "      <td>0.018326</td>\n",
       "    </tr>\n",
       "    <tr>\n",
       "      <th>2</th>\n",
       "      <td>-0.232593</td>\n",
       "      <td>-0.033235</td>\n",
       "      <td>-0.000409</td>\n",
       "      <td>0.002801</td>\n",
       "      <td>0.001146</td>\n",
       "      <td>0.009806</td>\n",
       "      <td>0.004157</td>\n",
       "      <td>-0.014376</td>\n",
       "      <td>-0.018617</td>\n",
       "      <td>0.019411</td>\n",
       "      <td>...</td>\n",
       "      <td>-0.020622</td>\n",
       "      <td>-0.016953</td>\n",
       "      <td>0.145443</td>\n",
       "      <td>0.008959</td>\n",
       "      <td>0.020313</td>\n",
       "      <td>0.018691</td>\n",
       "      <td>0.054513</td>\n",
       "      <td>-0.002163</td>\n",
       "      <td>-0.002814</td>\n",
       "      <td>-0.018070</td>\n",
       "    </tr>\n",
       "  </tbody>\n",
       "</table>\n",
       "<p>3 rows × 654 columns</p>\n",
       "</div>"
      ],
      "text/plain": [
       "        age  2ndarymalig  abdomhernia  abdomnlpain  abortcompl  acqfootdef  \\\n",
       "0  0.260844     0.033072    -0.008434    -0.000560   -0.000371   -0.005881   \n",
       "1 -0.028251     0.000162     0.008843    -0.002241   -0.000775   -0.003925   \n",
       "2 -0.232593    -0.033235    -0.000409     0.002801    0.001146    0.009806   \n",
       "\n",
       "   acrenlfail  acutecvd   acutemi  acutphanm  ...  arrivalhour_bin_23-02  \\\n",
       "0   -0.002112  0.012781  0.017828  -0.009147  ...               0.035033   \n",
       "1   -0.002045  0.001595  0.000789  -0.010264  ...              -0.014412   \n",
       "2    0.004157 -0.014376 -0.018617   0.019411  ...              -0.020622   \n",
       "\n",
       "   previousdispo_Admit  previousdispo_Discharge  previousdispo_Eloped  \\\n",
       "0             0.014309                -0.124540             -0.009484   \n",
       "1             0.002644                -0.020903              0.000525   \n",
       "2            -0.016953                 0.145443              0.008959   \n",
       "\n",
       "   previousdispo_LWBS after Triage  previousdispo_LWBS before Triage  \\\n",
       "0                        -0.024235                         -0.017866   \n",
       "1                         0.003922                         -0.000825   \n",
       "2                         0.020313                          0.018691   \n",
       "\n",
       "   previousdispo_No previous dispo  previousdispo_Observation  \\\n",
       "0                        -0.038646                   0.002259   \n",
       "1                        -0.015867                  -0.000096   \n",
       "2                         0.054513                  -0.002163   \n",
       "\n",
       "   previousdispo_Send to L&D  previousdispo_Transfer to Another Facility  \n",
       "0                   0.001696                                   -0.000255  \n",
       "1                   0.001118                                    0.018326  \n",
       "2                  -0.002814                                   -0.018070  \n",
       "\n",
       "[3 rows x 654 columns]"
      ]
     },
     "execution_count": 26,
     "metadata": {},
     "output_type": "execute_result"
    }
   ],
   "source": [
    "pd.DataFrame(columns=X.columns, data=pipe['log'].coef_)"
   ]
  }
 ],
 "metadata": {
  "kernelspec": {
   "display_name": "capstone",
   "language": "python",
   "name": "python3"
  },
  "language_info": {
   "codemirror_mode": {
    "name": "ipython",
    "version": 3
   },
   "file_extension": ".py",
   "mimetype": "text/x-python",
   "name": "python",
   "nbconvert_exporter": "python",
   "pygments_lexer": "ipython3",
   "version": "3.8.18"
  },
  "orig_nbformat": 4
 },
 "nbformat": 4,
 "nbformat_minor": 2
}
